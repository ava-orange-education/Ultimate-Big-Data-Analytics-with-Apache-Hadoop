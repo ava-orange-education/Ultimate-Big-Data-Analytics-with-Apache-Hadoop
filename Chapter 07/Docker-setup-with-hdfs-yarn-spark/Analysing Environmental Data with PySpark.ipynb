{
 "cells": [
  {
   "cell_type": "markdown",
   "id": "8e91bd0c-e67b-48b5-bcc4-fe88c655f73d",
   "metadata": {},
   "source": [
    "## Load the data to hdfs"
   ]
  },
  {
   "cell_type": "code",
   "execution_count": 134,
   "id": "8d00036e-fd07-4893-9a14-ad09a670f686",
   "metadata": {
    "scrolled": true
   },
   "outputs": [
    {
     "name": "stdout",
     "output_type": "stream",
     "text": [
      "SLF4J: Class path contains multiple SLF4J bindings.\n",
      "SLF4J: Found binding in [jar:file:/hadoop-3.3.1/share/hadoop/common/lib/slf4j-log4j12-1.7.30.jar!/org/slf4j/impl/StaticLoggerBinder.class]\n",
      "SLF4J: Found binding in [jar:file:/apache-tez-0.10.2-bin/lib/slf4j-reload4j-1.7.36.jar!/org/slf4j/impl/StaticLoggerBinder.class]\n",
      "SLF4J: See http://www.slf4j.org/codes.html#multiple_bindings for an explanation.\n",
      "SLF4J: Actual binding is of type [org.slf4j.impl.Log4jLoggerFactory]\n",
      "mkdir: `/data': File exists\n",
      "SLF4J: Class path contains multiple SLF4J bindings.\n",
      "SLF4J: Found binding in [jar:file:/hadoop-3.3.1/share/hadoop/common/lib/slf4j-log4j12-1.7.30.jar!/org/slf4j/impl/StaticLoggerBinder.class]\n",
      "SLF4J: Found binding in [jar:file:/apache-tez-0.10.2-bin/lib/slf4j-reload4j-1.7.36.jar!/org/slf4j/impl/StaticLoggerBinder.class]\n",
      "SLF4J: See http://www.slf4j.org/codes.html#multiple_bindings for an explanation.\n",
      "SLF4J: Actual binding is of type [org.slf4j.impl.Log4jLoggerFactory]\n",
      "put: `/data/GlobalLandTemperaturesByCity.csv': File exists\n"
     ]
    }
   ],
   "source": [
    "!/hadoop/bin/hdfs dfs -mkdir /data\n",
    "!/hadoop/bin/hdfs dfs -put /GlobalLandTemperaturesByCity.csv /data/\n"
   ]
  },
  {
   "cell_type": "code",
   "execution_count": 117,
   "id": "162df017-d097-4bba-aff7-28e81ea880d7",
   "metadata": {
    "scrolled": true
   },
   "outputs": [
    {
     "name": "stdout",
     "output_type": "stream",
     "text": [
      "SLF4J: Class path contains multiple SLF4J bindings.\n",
      "SLF4J: Found binding in [jar:file:/hadoop-3.3.1/share/hadoop/common/lib/slf4j-log4j12-1.7.30.jar!/org/slf4j/impl/StaticLoggerBinder.class]\n",
      "SLF4J: Found binding in [jar:file:/apache-tez-0.10.2-bin/lib/slf4j-reload4j-1.7.36.jar!/org/slf4j/impl/StaticLoggerBinder.class]\n",
      "SLF4J: See http://www.slf4j.org/codes.html#multiple_bindings for an explanation.\n",
      "SLF4J: Actual binding is of type [org.slf4j.impl.Log4jLoggerFactory]\n",
      "Found 1 items\n",
      "-rw-r--r--   1 root supergroup  532830464 2024-02-25 19:36 /data/GlobalLandTemperaturesByCity.csv\n"
     ]
    }
   ],
   "source": [
    "!/hadoop/bin/hdfs dfs -ls /data"
   ]
  },
  {
   "cell_type": "code",
   "execution_count": null,
   "id": "c77e9359-1bde-497a-940a-671666a65614",
   "metadata": {},
   "outputs": [],
   "source": []
  },
  {
   "cell_type": "markdown",
   "id": "8ec04afc-cfce-456b-a41c-60e718719bb0",
   "metadata": {},
   "source": [
    "## Step 1: Initializing the PySpark Session"
   ]
  },
  {
   "cell_type": "code",
   "execution_count": null,
   "id": "6e2bf1a9-9a8e-4f6f-a5c6-b82ea7df4240",
   "metadata": {},
   "outputs": [],
   "source": [
    "import findspark\n",
    "\n",
    "findspark.init()\n",
    "\n",
    "from pyspark.sql import SparkSession\n",
    "\n",
    "# Initialize SparkSession\n",
    "spark = SparkSession.builder.appName(\"PySpark Session\").enableHiveSupport().getOrCreate()"
   ]
  },
  {
   "cell_type": "markdown",
   "id": "dab7361b-e3cb-4985-b96a-1d08616eeb25",
   "metadata": {},
   "source": [
    "## Step 2: Loading the Environmental Data"
   ]
  },
  {
   "cell_type": "code",
   "execution_count": 125,
   "id": "0729452e-30e0-485e-89ec-51e19220a715",
   "metadata": {},
   "outputs": [
    {
     "name": "stderr",
     "output_type": "stream",
     "text": [
      "                                                                                \r"
     ]
    }
   ],
   "source": [
    "# Load environmental data into PySpark DataFrame\n",
    "env_data_df = spark.read.csv(\"hdfs://0.0.0.0:9000/data/GlobalLandTemperaturesByCity.csv\", header=True, inferSchema=True)"
   ]
  },
  {
   "cell_type": "markdown",
   "id": "e10c1c10-d403-466e-8633-cdcc29af991f",
   "metadata": {},
   "source": [
    "## Step 3: Data Cleaning and Preprocessing"
   ]
  },
  {
   "cell_type": "code",
   "execution_count": 126,
   "id": "109e9f09-2fd2-4efe-a8e4-dd39683faafa",
   "metadata": {},
   "outputs": [],
   "source": [
    "# Data cleaning and preprocessing\n",
    "from pyspark.sql.functions import date_format\n",
    "cleaned_env_data_df = env_data_df.dropna()  # Drop rows with missing values\n",
    "cleaned_env_data_df_year = cleaned_env_data_df.withColumn(\"year\", date_format(\"dt\", \"yyyy\").cast('int'))"
   ]
  },
  {
   "cell_type": "code",
   "execution_count": 127,
   "id": "7c9639bb-a36c-48d1-bbd7-bd94d7c097b2",
   "metadata": {},
   "outputs": [
    {
     "name": "stdout",
     "output_type": "stream",
     "text": [
      "+----------+-------------------+-----------------------------+-----+-------+--------+---------+----+\n",
      "|        dt| AverageTemperature|AverageTemperatureUncertainty| City|Country|Latitude|Longitude|year|\n",
      "+----------+-------------------+-----------------------------+-----+-------+--------+---------+----+\n",
      "|1743-11-01|              6.068|           1.7369999999999999|Århus|Denmark|  57.05N|   10.33E|1743|\n",
      "|1744-04-01| 5.7879999999999985|           3.6239999999999997|Århus|Denmark|  57.05N|   10.33E|1744|\n",
      "|1744-05-01|             10.644|           1.2830000000000001|Århus|Denmark|  57.05N|   10.33E|1744|\n",
      "|1744-06-01| 14.050999999999998|                        1.347|Århus|Denmark|  57.05N|   10.33E|1744|\n",
      "|1744-07-01|             16.082|                        1.396|Århus|Denmark|  57.05N|   10.33E|1744|\n",
      "|1744-09-01| 12.780999999999999|                        1.454|Århus|Denmark|  57.05N|   10.33E|1744|\n",
      "|1744-10-01|               7.95|                         1.63|Århus|Denmark|  57.05N|   10.33E|1744|\n",
      "|1744-11-01|  4.638999999999999|           1.3019999999999998|Århus|Denmark|  57.05N|   10.33E|1744|\n",
      "|1744-12-01|0.12199999999999987|                        1.756|Århus|Denmark|  57.05N|   10.33E|1744|\n",
      "|1745-01-01|-1.3330000000000002|                        1.642|Århus|Denmark|  57.05N|   10.33E|1745|\n",
      "|1745-02-01|             -2.732|                        1.358|Århus|Denmark|  57.05N|   10.33E|1745|\n",
      "|1745-03-01|              0.129|                        1.088|Århus|Denmark|  57.05N|   10.33E|1745|\n",
      "|1745-04-01|              4.042|                        1.138|Århus|Denmark|  57.05N|   10.33E|1745|\n",
      "|1750-01-01|              1.699|                        1.013|Århus|Denmark|  57.05N|   10.33E|1750|\n",
      "|1750-02-01| 3.9610000000000003|           2.3609999999999998|Århus|Denmark|  57.05N|   10.33E|1750|\n",
      "|1750-03-01|              5.182|                         3.48|Århus|Denmark|  57.05N|   10.33E|1750|\n",
      "|1750-04-01|              7.197|                        0.732|Århus|Denmark|  57.05N|   10.33E|1750|\n",
      "|1750-05-01|             10.634|                        1.351|Århus|Denmark|  57.05N|   10.33E|1750|\n",
      "|1750-06-01|             14.913|                        1.181|Århus|Denmark|  57.05N|   10.33E|1750|\n",
      "|1750-07-01|             17.831|                         1.22|Århus|Denmark|  57.05N|   10.33E|1750|\n",
      "+----------+-------------------+-----------------------------+-----+-------+--------+---------+----+\n",
      "only showing top 20 rows\n",
      "\n"
     ]
    }
   ],
   "source": [
    "cleaned_env_data_df_year.show()"
   ]
  },
  {
   "cell_type": "code",
   "execution_count": 93,
   "id": "89c7d7b2-751b-4c4b-8473-ffecfa13875e",
   "metadata": {},
   "outputs": [],
   "source": []
  },
  {
   "cell_type": "markdown",
   "id": "b7ccf178-0875-4c3a-8ea3-948ecaafcec1",
   "metadata": {},
   "source": [
    "# Step 4: Analyzing Environmental Trends"
   ]
  },
  {
   "cell_type": "code",
   "execution_count": 135,
   "id": "6c0e69eb-015e-41e0-8a80-9490d37f2830",
   "metadata": {},
   "outputs": [
    {
     "name": "stderr",
     "output_type": "stream",
     "text": [
      "[Stage 99:=======>                                                  (1 + 7) / 8]\r"
     ]
    },
    {
     "name": "stdout",
     "output_type": "stream",
     "text": [
      "+----+-----------------------+\n",
      "|year|avg(AverageTemperature)|\n",
      "+----+-----------------------+\n",
      "|1743|      4.882423512747874|\n",
      "|1744|     10.734046919263458|\n",
      "|1745|      1.497592776203966|\n",
      "|1750|       9.87280824493085|\n",
      "|1751|     10.046738737075332|\n",
      "|1752|      4.253063583815031|\n",
      "|1753|      9.452665778961384|\n",
      "|1754|      9.364699884659746|\n",
      "|1755|      8.825222310666364|\n",
      "|1756|       9.73270836212855|\n",
      "|1757|      9.519407968574642|\n",
      "|1758|      8.648493577981657|\n",
      "|1759|      9.691045464270431|\n",
      "|1760|      8.798937674834956|\n",
      "|1761|      9.794437908496729|\n",
      "|1762|      9.372744063926946|\n",
      "|1763|      8.744660119457844|\n",
      "|1764|      9.814161742555903|\n",
      "|1765|      9.386765923925282|\n",
      "|1766|       9.54100455555556|\n",
      "+----+-----------------------+\n",
      "only showing top 20 rows\n",
      "\n"
     ]
    },
    {
     "name": "stderr",
     "output_type": "stream",
     "text": [
      "                                                                                \r"
     ]
    }
   ],
   "source": [
    "avg_temp_trends_df_year = cleaned_env_data_df_year.groupby(\"year\").agg({\"AverageTemperature\": \"avg\"}).orderBy(\"year\")\n",
    "avg_temp_trends = avg_temp_trends_df_year.toPandas();\n",
    "avg_temp_trends_df_year.show()"
   ]
  },
  {
   "cell_type": "code",
   "execution_count": 129,
   "id": "56df7e0f-8cab-4da7-a2ff-cad6d86f36a9",
   "metadata": {},
   "outputs": [
    {
     "name": "stderr",
     "output_type": "stream",
     "text": [
      "                                                                                \r"
     ]
    }
   ],
   "source": [
    "avg_temp_trends = avg_temp_trends_df_year.toPandas();"
   ]
  },
  {
   "cell_type": "code",
   "execution_count": 130,
   "id": "0cfbf049-7d77-4e0f-b87d-5415f1e0896d",
   "metadata": {},
   "outputs": [
    {
     "data": {
      "text/html": [
       "<div>\n",
       "<style scoped>\n",
       "    .dataframe tbody tr th:only-of-type {\n",
       "        vertical-align: middle;\n",
       "    }\n",
       "\n",
       "    .dataframe tbody tr th {\n",
       "        vertical-align: top;\n",
       "    }\n",
       "\n",
       "    .dataframe thead th {\n",
       "        text-align: right;\n",
       "    }\n",
       "</style>\n",
       "<table border=\"1\" class=\"dataframe\">\n",
       "  <thead>\n",
       "    <tr style=\"text-align: right;\">\n",
       "      <th></th>\n",
       "      <th>year</th>\n",
       "      <th>avg(AverageTemperature)</th>\n",
       "    </tr>\n",
       "  </thead>\n",
       "  <tbody>\n",
       "    <tr>\n",
       "      <th>0</th>\n",
       "      <td>1743</td>\n",
       "      <td>4.882424</td>\n",
       "    </tr>\n",
       "    <tr>\n",
       "      <th>1</th>\n",
       "      <td>1744</td>\n",
       "      <td>10.734047</td>\n",
       "    </tr>\n",
       "    <tr>\n",
       "      <th>2</th>\n",
       "      <td>1745</td>\n",
       "      <td>1.497593</td>\n",
       "    </tr>\n",
       "    <tr>\n",
       "      <th>3</th>\n",
       "      <td>1750</td>\n",
       "      <td>9.872808</td>\n",
       "    </tr>\n",
       "    <tr>\n",
       "      <th>4</th>\n",
       "      <td>1751</td>\n",
       "      <td>10.046739</td>\n",
       "    </tr>\n",
       "    <tr>\n",
       "      <th>...</th>\n",
       "      <td>...</td>\n",
       "      <td>...</td>\n",
       "    </tr>\n",
       "    <tr>\n",
       "      <th>262</th>\n",
       "      <td>2009</td>\n",
       "      <td>18.601106</td>\n",
       "    </tr>\n",
       "    <tr>\n",
       "      <th>263</th>\n",
       "      <td>2010</td>\n",
       "      <td>18.553508</td>\n",
       "    </tr>\n",
       "    <tr>\n",
       "      <th>264</th>\n",
       "      <td>2011</td>\n",
       "      <td>18.393315</td>\n",
       "    </tr>\n",
       "    <tr>\n",
       "      <th>265</th>\n",
       "      <td>2012</td>\n",
       "      <td>18.525969</td>\n",
       "    </tr>\n",
       "    <tr>\n",
       "      <th>266</th>\n",
       "      <td>2013</td>\n",
       "      <td>19.061038</td>\n",
       "    </tr>\n",
       "  </tbody>\n",
       "</table>\n",
       "<p>267 rows × 2 columns</p>\n",
       "</div>"
      ],
      "text/plain": [
       "     year  avg(AverageTemperature)\n",
       "0    1743                 4.882424\n",
       "1    1744                10.734047\n",
       "2    1745                 1.497593\n",
       "3    1750                 9.872808\n",
       "4    1751                10.046739\n",
       "..    ...                      ...\n",
       "262  2009                18.601106\n",
       "263  2010                18.553508\n",
       "264  2011                18.393315\n",
       "265  2012                18.525969\n",
       "266  2013                19.061038\n",
       "\n",
       "[267 rows x 2 columns]"
      ]
     },
     "execution_count": 130,
     "metadata": {},
     "output_type": "execute_result"
    }
   ],
   "source": [
    "avg_temp_trends"
   ]
  },
  {
   "cell_type": "markdown",
   "id": "ef518956-8326-495a-b33e-52648dfaa72c",
   "metadata": {},
   "source": [
    "# Step 5: Visualizing the Results"
   ]
  },
  {
   "cell_type": "code",
   "execution_count": 131,
   "id": "e46d28c6-368a-454e-b0b4-d62580b68693",
   "metadata": {
    "scrolled": true
   },
   "outputs": [
    {
     "data": {
      "image/png": "[encoded data removed]",
      "text/plain": [
       "<Figure size 640x480 with 1 Axes>"
      ]
     },
     "metadata": {},
     "output_type": "display_data"
    }
   ],
   "source": [
    "import matplotlib.pyplot as plt\n",
    "\n",
    "# Visualize average temperature trends\n",
    "plt.plot(avg_temp_trends[\"year\"], avg_temp_trends[\"avg(AverageTemperature)\"])\n",
    "plt.title(\"Average Temperature Trends\")\n",
    "plt.xlabel(\"Timestamp\")\n",
    "plt.ylabel(\"Temperature (°C)\")\n",
    "plt.show()\n"
   ]
  },
  {
   "cell_type": "code",
   "execution_count": 132,
   "id": "4714250c-dc76-4c47-a468-4f03b0165be4",
   "metadata": {},
   "outputs": [],
   "source": [
    "# Using plotly\n",
    "import plotly.express as px\n",
    "\n",
    "fig = px.scatter(avg_temp_trends, x=\"year\", y=\"avg(AverageTemperature)\", trendline=\"ols\")\n",
    "\n",
    "fig.write_html('scatter_plot.html', auto_open=True)"
   ]
  },
  {
   "cell_type": "code",
   "execution_count": 133,
   "id": "fbe7d2df-a760-422a-b20a-bd1afd1f89ab",
   "metadata": {},
   "outputs": [],
   "source": [
    "import plotly.express as px\n",
    "fig = px.line(avg_temp_trends, x=\"year\", y=\"avg(AverageTemperature)\")\n",
    "fig.write_html('liner_plot.html', auto_open=True)"
   ]
  },
  {
   "cell_type": "code",
   "execution_count": 107,
   "id": "3ca451e4-c9e4-41d8-b8ff-7f5123ef1b9e",
   "metadata": {},
   "outputs": [
    {
     "data": {
      "image/png": "[encoded data removed]",
      "text/plain": [
       "<Figure size 640x480 with 1 Axes>"
      ]
     },
     "metadata": {},
     "output_type": "display_data"
    }
   ],
   "source": []
  },
  {
   "cell_type": "code",
   "execution_count": 108,
   "id": "f7ec25db-09c4-48d7-9f72-b8d4f4f760c5",
   "metadata": {},
   "outputs": [
    {
     "data": {
      "application/vnd.plotly.v1+json": {
       "config": {
        "plotlyServerURL": "https://plot.ly"
       },
       "data": [
        {
         "hovertemplate": "year=%{x}<br>avg(AverageTemperature)=%{y}<extra></extra>",
         "legendgroup": "",
         "line": {
          "color": "#636efa",
          "dash": "solid"
         },
         "marker": {
          "symbol": "circle"
         },
         "mode": "lines",
         "name": "",
         "orientation": "v",
         "showlegend": false,
         "type": "scatter",
         "x": [
          1743,
          1744,
          1745,
          1750,
          1751,
          1752,
          1753,
          1754,
          1755,
          1756,
          1757,
          1758,
          1759,
          1760,
          1761,
          1762,
          1763,
          1764,
          1765,
          1766,
          1767,
          1768,
          1769,
          1770,
          1771,
          1772,
          1773,
          1774,
          1775,
          1776,
          1777,
          1778,
          1779,
          1780,
          1781,
          1782,
          1783,
          1784,
          1785,
          1786,
          1787,
          1788,
          1789,
          1790,
          1791,
          1792,
          1793,
          1794,
          1795,
          1796,
          1797,
          1798,
          1799,
          1800,
          1801,
          1802,
          1803,
          1804,
          1805,
          1806,
          1807,
          1808,
          1809,
          1810,
          1811,
          1812,
          1813,
          1814,
          1815,
          1816,
          1817,
          1818,
          1819,
          1820,
          1821,
          1822,
          1823,
          1824,
          1825,
          1826,
          1827,
          1828,
          1829,
          1830,
          1831,
          1832,
          1833,
          1834,
          1835,
          1836,
          1837,
          1838,
          1839,
          1840,
          1841,
          1842,
          1843,
          1844,
          1845,
          1846,
          1847,
          1848,
          1849,
          1850,
          1851,
          1852,
          1853,
          1854,
          1855,
          1856,
          1857,
          1858,
          1859,
          1860,
          1861,
          1862,
          1863,
          1864,
          1865,
          1866,
          1867,
          1868,
          1869,
          1870,
          1871,
          1872,
          1873,
          1874,
          1875,
          1876,
          1877,
          1878,
          1879,
          1880,
          1881,
          1882,
          1883,
          1884,
          1885,
          1886,
          1887,
          1888,
          1889,
          1890,
          1891,
          1892,
          1893,
          1894,
          1895,
          1896,
          1897,
          1898,
          1899,
          1900,
          1901,
          1902,
          1903,
          1904,
          1905,
          1906,
          1907,
          1908,
          1909,
          1910,
          1911,
          1912,
          1913,
          1914,
          1915,
          1916,
          1917,
          1918,
          1919,
          1920,
          1921,
          1922,
          1923,
          1924,
          1925,
          1926,
          1927,
          1928,
          1929,
          1930,
          1931,
          1932,
          1933,
          1934,
          1935,
          1936,
          1937,
          1938,
          1939,
          1940,
          1941,
          1942,
          1943,
          1944,
          1945,
          1946,
          1947,
          1948,
          1949,
          1950,
          1951,
          1952,
          1953,
          1954,
          1955,
          1956,
          1957,
          1958,
          1959,
          1960,
          1961,
          1962,
          1963,
          1964,
          1965,
          1966,
          1967,
          1968,
          1969,
          1970,
          1971,
          1972,
          1973,
          1974,
          1975,
          1976,
          1977,
          1978,
          1979,
          1980,
          1981,
          1982,
          1983,
          1984,
          1985,
          1986,
          1987,
          1988,
          1989,
          1990,
          1991,
          1992,
          1993,
          1994,
          1995,
          1996,
          1997,
          1998,
          1999,
          2000,
          2001,
          2002,
          2003,
          2004,
          2005,
          2006,
          2007,
          2008,
          2009,
          2010,
          2011,
          2012,
          2013
         ],
         "xaxis": "x",
         "y": [
          4.882423512747874,
          10.734046919263458,
          1.497592776203966,
          9.87280824493085,
          10.046738737075332,
          4.253063583815031,
          9.452665778961384,
          9.364699884659746,
          8.825222310666364,
          9.73270836212855,
          9.519407968574642,
          8.648493577981657,
          9.691045464270431,
          8.798937674834956,
          9.794437908496729,
          9.372744063926946,
          8.744660119457844,
          9.814161742555903,
          9.386765923925282,
          9.54100455555556,
          9.09367706113292,
          8.854440511727075,
          9.447378129681141,
          9.509911538461544,
          9.438601388888888,
          9.945822709163348,
          10.043391529259619,
          9.538027639027643,
          10.57401081024349,
          9.412268261426743,
          9.232807058326285,
          9.375036546730033,
          9.732407796958954,
          9.469317456673938,
          10.016636601834126,
          8.950201793270203,
          9.76893167892156,
          9.106745936877424,
          8.810571953835169,
          9.032166767432487,
          9.967873852501286,
          9.71080772300938,
          9.814777118560269,
          10.031054267542059,
          10.422602746396581,
          9.941539370460042,
          10.058175030599749,
          10.502071515768069,
          9.735600683654447,
          15.13776666218757,
          15.160372865680142,
          14.720698255071612,
          14.708681763285032,
          15.258411361804987,
          14.867708321418323,
          15.754577093994088,
          15.199810572983157,
          15.552923787838198,
          14.850211869556405,
          15.432511952998368,
          14.50504496634684,
          9.24038807458371,
          9.316521223529413,
          9.382670348343243,
          10.092118890977437,
          8.767334210765185,
          14.3365793496648,
          13.563461861396366,
          14.029431734784277,
          14.266152702062103,
          14.625925776522804,
          15.09128708775198,
          14.893161167800454,
          14.348332056601759,
          14.435909367517974,
          14.784790461771406,
          14.349090822323799,
          15.042044270161504,
          16.330363461881813,
          15.007845728770596,
          15.186842795200139,
          14.81208292294683,
          13.971163343064958,
          14.205239143920616,
          13.810947558770348,
          13.774887593394556,
          15.017078585961368,
          15.288224724809485,
          14.575386599180527,
          14.786311012026523,
          14.519746852165325,
          14.669772762967552,
          15.286412381544194,
          15.495474925725759,
          15.511865932169647,
          15.551532776955176,
          15.789382175027944,
          14.884832278706037,
          15.106487552623749,
          15.911679020582454,
          15.348561618435879,
          15.202868493611305,
          15.487025584193546,
          16.192064678766933,
          16.58489454804348,
          16.387710304077586,
          16.381734680845156,
          16.647173072693292,
          16.466708896121514,
          16.453340627049695,
          16.07523581889025,
          15.975535939365333,
          16.449035161325245,
          15.953020206753951,
          16.01338229625548,
          14.154211931689293,
          15.04401686324814,
          14.841465776647592,
          15.930115559129264,
          16.296307989087,
          16.26008773975072,
          16.519711982131668,
          16.56422160589496,
          16.65510125247199,
          16.388222157925163,
          16.715643718949632,
          16.97162953341483,
          17.037570996298896,
          16.87518229192032,
          17.083622405424514,
          17.422297226785197,
          17.62043725996957,
          17.026344372005756,
          17.177439988417557,
          17.154883251671457,
          17.185473785520074,
          17.005380314600206,
          16.767088266037874,
          16.723961019564868,
          17.064966729034747,
          17.03878874186502,
          17.077193009886244,
          17.248165889871224,
          17.243240356296248,
          17.195709289617504,
          17.14275759739181,
          16.905717023300028,
          17.322859425451114,
          17.20613549382714,
          17.413317497625847,
          17.480887654320988,
          17.480181105169347,
          17.553389529914533,
          17.62251130104462,
          17.469447222222264,
          17.44224154795816,
          17.381778632478646,
          17.19806013770183,
          17.291567022792066,
          17.43564458689459,
          17.140372174738832,
          17.21821718898387,
          17.269350759734102,
          17.2845116096866,
          17.359756813865175,
          17.292802564102576,
          17.415246248812903,
          17.6740715811966,
          17.64813739316243,
          17.450017806267812,
          17.03235852326689,
          17.335453751187103,
          17.469532383665754,
          17.498858309591654,
          17.67212640075971,
          17.53144669990504,
          17.52994339981007,
          17.440732359924034,
          17.531972103513777,
          17.665183618233634,
          17.60234297245967,
          17.65228689458688,
          17.392587773029458,
          17.732781695156692,
          17.63577867996201,
          17.717267972459656,
          17.428404249762547,
          17.695059425451092,
          17.64751600189936,
          17.64743656220324,
          17.764566761633414,
          17.85472108262108,
          17.81035956790122,
          17.59050398860396,
          17.822197815764493,
          17.66152659069325,
          17.749479819563163,
          17.730796984805338,
          17.607762321937322,
          17.934433357075044,
          17.790526566951538,
          17.912139363722723,
          17.859298409306714,
          17.679402041785384,
          17.821102991453007,
          17.829925949667597,
          17.97688501899333,
          17.68417345679009,
          17.7147213675214,
          17.305051899335172,
          17.7982301994302,
          17.99743065052232,
          18.002708618233616,
          17.90093387939221,
          18.029934377967706,
          17.72721220322891,
          17.73817796771131,
          17.65502255460591,
          17.62380994776827,
          17.971467331434006,
          17.75227158119659,
          17.639048433048448,
          17.683528846153852,
          17.779190337132007,
          17.653380246913567,
          17.76262279202276,
          17.972550474833806,
          17.704323741690406,
          17.87201820987657,
          17.496270821462474,
          17.988380294396972,
          17.768577943969657,
          17.961801377018112,
          17.840025403608752,
          17.944374311490954,
          17.95569938271604,
          18.09413076923081,
          17.750914672364647,
          17.760221391263073,
          17.878245821462503,
          18.093332953466305,
          18.121301566951587,
          18.139926305792965,
          18.438358262108267,
          18.111251756885064,
          18.015378822412142,
          17.94270982905982,
          18.345653584995212,
          18.32877554605884,
          17.914262559354217,
          18.23427376543206,
          18.68251429249762,
          18.484275522317184,
          18.38393651471984,
          18.4560903846154,
          18.66470826210832,
          18.478554131054143,
          18.49487813390313,
          18.451510232668575,
          18.60447200854703,
          18.68694059829059,
          18.445346604938283,
          18.601106101614437,
          18.553508452041797,
          18.39331464862293,
          18.525968518518493,
          19.061038113604496
         ],
         "yaxis": "y"
        }
       ],
       "layout": {
        "autosize": true,
        "legend": {
         "tracegroupgap": 0
        },
        "margin": {
         "t": 60
        },
        "template": {
         "data": {
          "bar": [
           {
            "error_x": {
             "color": "#2a3f5f"
            },
            "error_y": {
             "color": "#2a3f5f"
            },
            "marker": {
             "line": {
              "color": "#E5ECF6",
              "width": 0.5
             },
             "pattern": {
              "fillmode": "overlay",
              "size": 10,
              "solidity": 0.2
             }
            },
            "type": "bar"
           }
          ],
          "barpolar": [
           {
            "marker": {
             "line": {
              "color": "#E5ECF6",
              "width": 0.5
             },
             "pattern": {
              "fillmode": "overlay",
              "size": 10,
              "solidity": 0.2
             }
            },
            "type": "barpolar"
           }
          ],
          "carpet": [
           {
            "aaxis": {
             "endlinecolor": "#2a3f5f",
             "gridcolor": "white",
             "linecolor": "white",
             "minorgridcolor": "white",
             "startlinecolor": "#2a3f5f"
            },
            "baxis": {
             "endlinecolor": "#2a3f5f",
             "gridcolor": "white",
             "linecolor": "white",
             "minorgridcolor": "white",
             "startlinecolor": "#2a3f5f"
            },
            "type": "carpet"
           }
          ],
          "choropleth": [
           {
            "colorbar": {
             "outlinewidth": 0,
             "ticks": ""
            },
            "type": "choropleth"
           }
          ],
          "contour": [
           {
            "colorbar": {
             "outlinewidth": 0,
             "ticks": ""
            },
            "colorscale": [
             [
              0,
              "#0d0887"
             ],
             [
              0.1111111111111111,
              "#46039f"
             ],
             [
              0.2222222222222222,
              "#7201a8"
             ],
             [
              0.3333333333333333,
              "#9c179e"
             ],
             [
              0.4444444444444444,
              "#bd3786"
             ],
             [
              0.5555555555555556,
              "#d8576b"
             ],
             [
              0.6666666666666666,
              "#ed7953"
             ],
             [
              0.7777777777777778,
              "#fb9f3a"
             ],
             [
              0.8888888888888888,
              "#fdca26"
             ],
             [
              1,
              "#f0f921"
             ]
            ],
            "type": "contour"
           }
          ],
          "contourcarpet": [
           {
            "colorbar": {
             "outlinewidth": 0,
             "ticks": ""
            },
            "type": "contourcarpet"
           }
          ],
          "heatmap": [
           {
            "colorbar": {
             "outlinewidth": 0,
             "ticks": ""
            },
            "colorscale": [
             [
              0,
              "#0d0887"
             ],
             [
              0.1111111111111111,
              "#46039f"
             ],
             [
              0.2222222222222222,
              "#7201a8"
             ],
             [
              0.3333333333333333,
              "#9c179e"
             ],
             [
              0.4444444444444444,
              "#bd3786"
             ],
             [
              0.5555555555555556,
              "#d8576b"
             ],
             [
              0.6666666666666666,
              "#ed7953"
             ],
             [
              0.7777777777777778,
              "#fb9f3a"
             ],
             [
              0.8888888888888888,
              "#fdca26"
             ],
             [
              1,
              "#f0f921"
             ]
            ],
            "type": "heatmap"
           }
          ],
          "heatmapgl": [
           {
            "colorbar": {
             "outlinewidth": 0,
             "ticks": ""
            },
            "colorscale": [
             [
              0,
              "#0d0887"
             ],
             [
              0.1111111111111111,
              "#46039f"
             ],
             [
              0.2222222222222222,
              "#7201a8"
             ],
             [
              0.3333333333333333,
              "#9c179e"
             ],
             [
              0.4444444444444444,
              "#bd3786"
             ],
             [
              0.5555555555555556,
              "#d8576b"
             ],
             [
              0.6666666666666666,
              "#ed7953"
             ],
             [
              0.7777777777777778,
              "#fb9f3a"
             ],
             [
              0.8888888888888888,
              "#fdca26"
             ],
             [
              1,
              "#f0f921"
             ]
            ],
            "type": "heatmapgl"
           }
          ],
          "histogram": [
           {
            "marker": {
             "pattern": {
              "fillmode": "overlay",
              "size": 10,
              "solidity": 0.2
             }
            },
            "type": "histogram"
           }
          ],
          "histogram2d": [
           {
            "colorbar": {
             "outlinewidth": 0,
             "ticks": ""
            },
            "colorscale": [
             [
              0,
              "#0d0887"
             ],
             [
              0.1111111111111111,
              "#46039f"
             ],
             [
              0.2222222222222222,
              "#7201a8"
             ],
             [
              0.3333333333333333,
              "#9c179e"
             ],
             [
              0.4444444444444444,
              "#bd3786"
             ],
             [
              0.5555555555555556,
              "#d8576b"
             ],
             [
              0.6666666666666666,
              "#ed7953"
             ],
             [
              0.7777777777777778,
              "#fb9f3a"
             ],
             [
              0.8888888888888888,
              "#fdca26"
             ],
             [
              1,
              "#f0f921"
             ]
            ],
            "type": "histogram2d"
           }
          ],
          "histogram2dcontour": [
           {
            "colorbar": {
             "outlinewidth": 0,
             "ticks": ""
            },
            "colorscale": [
             [
              0,
              "#0d0887"
             ],
             [
              0.1111111111111111,
              "#46039f"
             ],
             [
              0.2222222222222222,
              "#7201a8"
             ],
             [
              0.3333333333333333,
              "#9c179e"
             ],
             [
              0.4444444444444444,
              "#bd3786"
             ],
             [
              0.5555555555555556,
              "#d8576b"
             ],
             [
              0.6666666666666666,
              "#ed7953"
             ],
             [
              0.7777777777777778,
              "#fb9f3a"
             ],
             [
              0.8888888888888888,
              "#fdca26"
             ],
             [
              1,
              "#f0f921"
             ]
            ],
            "type": "histogram2dcontour"
           }
          ],
          "mesh3d": [
           {
            "colorbar": {
             "outlinewidth": 0,
             "ticks": ""
            },
            "type": "mesh3d"
           }
          ],
          "parcoords": [
           {
            "line": {
             "colorbar": {
              "outlinewidth": 0,
              "ticks": ""
             }
            },
            "type": "parcoords"
           }
          ],
          "pie": [
           {
            "automargin": true,
            "type": "pie"
           }
          ],
          "scatter": [
           {
            "fillpattern": {
             "fillmode": "overlay",
             "size": 10,
             "solidity": 0.2
            },
            "type": "scatter"
           }
          ],
          "scatter3d": [
           {
            "line": {
             "colorbar": {
              "outlinewidth": 0,
              "ticks": ""
             }
            },
            "marker": {
             "colorbar": {
              "outlinewidth": 0,
              "ticks": ""
             }
            },
            "type": "scatter3d"
           }
          ],
          "scattercarpet": [
           {
            "marker": {
             "colorbar": {
              "outlinewidth": 0,
              "ticks": ""
             }
            },
            "type": "scattercarpet"
           }
          ],
          "scattergeo": [
           {
            "marker": {
             "colorbar": {
              "outlinewidth": 0,
              "ticks": ""
             }
            },
            "type": "scattergeo"
           }
          ],
          "scattergl": [
           {
            "marker": {
             "colorbar": {
              "outlinewidth": 0,
              "ticks": ""
             }
            },
            "type": "scattergl"
           }
          ],
          "scattermapbox": [
           {
            "marker": {
             "colorbar": {
              "outlinewidth": 0,
              "ticks": ""
             }
            },
            "type": "scattermapbox"
           }
          ],
          "scatterpolar": [
           {
            "marker": {
             "colorbar": {
              "outlinewidth": 0,
              "ticks": ""
             }
            },
            "type": "scatterpolar"
           }
          ],
          "scatterpolargl": [
           {
            "marker": {
             "colorbar": {
              "outlinewidth": 0,
              "ticks": ""
             }
            },
            "type": "scatterpolargl"
           }
          ],
          "scatterternary": [
           {
            "marker": {
             "colorbar": {
              "outlinewidth": 0,
              "ticks": ""
             }
            },
            "type": "scatterternary"
           }
          ],
          "surface": [
           {
            "colorbar": {
             "outlinewidth": 0,
             "ticks": ""
            },
            "colorscale": [
             [
              0,
              "#0d0887"
             ],
             [
              0.1111111111111111,
              "#46039f"
             ],
             [
              0.2222222222222222,
              "#7201a8"
             ],
             [
              0.3333333333333333,
              "#9c179e"
             ],
             [
              0.4444444444444444,
              "#bd3786"
             ],
             [
              0.5555555555555556,
              "#d8576b"
             ],
             [
              0.6666666666666666,
              "#ed7953"
             ],
             [
              0.7777777777777778,
              "#fb9f3a"
             ],
             [
              0.8888888888888888,
              "#fdca26"
             ],
             [
              1,
              "#f0f921"
             ]
            ],
            "type": "surface"
           }
          ],
          "table": [
           {
            "cells": {
             "fill": {
              "color": "#EBF0F8"
             },
             "line": {
              "color": "white"
             }
            },
            "header": {
             "fill": {
              "color": "#C8D4E3"
             },
             "line": {
              "color": "white"
             }
            },
            "type": "table"
           }
          ]
         },
         "layout": {
          "annotationdefaults": {
           "arrowcolor": "#2a3f5f",
           "arrowhead": 0,
           "arrowwidth": 1
          },
          "autotypenumbers": "strict",
          "coloraxis": {
           "colorbar": {
            "outlinewidth": 0,
            "ticks": ""
           }
          },
          "colorscale": {
           "diverging": [
            [
             0,
             "#8e0152"
            ],
            [
             0.1,
             "#c51b7d"
            ],
            [
             0.2,
             "#de77ae"
            ],
            [
             0.3,
             "#f1b6da"
            ],
            [
             0.4,
             "#fde0ef"
            ],
            [
             0.5,
             "#f7f7f7"
            ],
            [
             0.6,
             "#e6f5d0"
            ],
            [
             0.7,
             "#b8e186"
            ],
            [
             0.8,
             "#7fbc41"
            ],
            [
             0.9,
             "#4d9221"
            ],
            [
             1,
             "#276419"
            ]
           ],
           "sequential": [
            [
             0,
             "#0d0887"
            ],
            [
             0.1111111111111111,
             "#46039f"
            ],
            [
             0.2222222222222222,
             "#7201a8"
            ],
            [
             0.3333333333333333,
             "#9c179e"
            ],
            [
             0.4444444444444444,
             "#bd3786"
            ],
            [
             0.5555555555555556,
             "#d8576b"
            ],
            [
             0.6666666666666666,
             "#ed7953"
            ],
            [
             0.7777777777777778,
             "#fb9f3a"
            ],
            [
             0.8888888888888888,
             "#fdca26"
            ],
            [
             1,
             "#f0f921"
            ]
           ],
           "sequentialminus": [
            [
             0,
             "#0d0887"
            ],
            [
             0.1111111111111111,
             "#46039f"
            ],
            [
             0.2222222222222222,
             "#7201a8"
            ],
            [
             0.3333333333333333,
             "#9c179e"
            ],
            [
             0.4444444444444444,
             "#bd3786"
            ],
            [
             0.5555555555555556,
             "#d8576b"
            ],
            [
             0.6666666666666666,
             "#ed7953"
            ],
            [
             0.7777777777777778,
             "#fb9f3a"
            ],
            [
             0.8888888888888888,
             "#fdca26"
            ],
            [
             1,
             "#f0f921"
            ]
           ]
          },
          "colorway": [
           "#636efa",
           "#EF553B",
           "#00cc96",
           "#ab63fa",
           "#FFA15A",
           "#19d3f3",
           "#FF6692",
           "#B6E880",
           "#FF97FF",
           "#FECB52"
          ],
          "font": {
           "color": "#2a3f5f"
          },
          "geo": {
           "bgcolor": "white",
           "lakecolor": "white",
           "landcolor": "#E5ECF6",
           "showlakes": true,
           "showland": true,
           "subunitcolor": "white"
          },
          "hoverlabel": {
           "align": "left"
          },
          "hovermode": "closest",
          "mapbox": {
           "style": "light"
          },
          "paper_bgcolor": "white",
          "plot_bgcolor": "#E5ECF6",
          "polar": {
           "angularaxis": {
            "gridcolor": "white",
            "linecolor": "white",
            "ticks": ""
           },
           "bgcolor": "#E5ECF6",
           "radialaxis": {
            "gridcolor": "white",
            "linecolor": "white",
            "ticks": ""
           }
          },
          "scene": {
           "xaxis": {
            "backgroundcolor": "#E5ECF6",
            "gridcolor": "white",
            "gridwidth": 2,
            "linecolor": "white",
            "showbackground": true,
            "ticks": "",
            "zerolinecolor": "white"
           },
           "yaxis": {
            "backgroundcolor": "#E5ECF6",
            "gridcolor": "white",
            "gridwidth": 2,
            "linecolor": "white",
            "showbackground": true,
            "ticks": "",
            "zerolinecolor": "white"
           },
           "zaxis": {
            "backgroundcolor": "#E5ECF6",
            "gridcolor": "white",
            "gridwidth": 2,
            "linecolor": "white",
            "showbackground": true,
            "ticks": "",
            "zerolinecolor": "white"
           }
          },
          "shapedefaults": {
           "line": {
            "color": "#2a3f5f"
           }
          },
          "ternary": {
           "aaxis": {
            "gridcolor": "white",
            "linecolor": "white",
            "ticks": ""
           },
           "baxis": {
            "gridcolor": "white",
            "linecolor": "white",
            "ticks": ""
           },
           "bgcolor": "#E5ECF6",
           "caxis": {
            "gridcolor": "white",
            "linecolor": "white",
            "ticks": ""
           }
          },
          "title": {
           "x": 0.05
          },
          "xaxis": {
           "automargin": true,
           "gridcolor": "white",
           "linecolor": "white",
           "ticks": "",
           "title": {
            "standoff": 15
           },
           "zerolinecolor": "white",
           "zerolinewidth": 2
          },
          "yaxis": {
           "automargin": true,
           "gridcolor": "white",
           "linecolor": "white",
           "ticks": "",
           "title": {
            "standoff": 15
           },
           "zerolinecolor": "white",
           "zerolinewidth": 2
          }
         }
        },
        "xaxis": {
         "anchor": "y",
         "autorange": true,
         "domain": [
          0,
          1
         ],
         "range": [
          1743,
          2013
         ],
         "title": {
          "text": "year"
         },
         "type": "linear"
        },
        "yaxis": {
         "anchor": "x",
         "autorange": true,
         "domain": [
          0,
          1
         ],
         "range": [
          0.5218458130150476,
          20.036785076793414
         ],
         "title": {
          "text": "avg(AverageTemperature)"
         },
         "type": "linear"
        }
       }
      },
      "image/png": "[encoded data removed]",
      "text/html": [
       "<div>                            <div id=\"72434865-efb7-4bb3-a264-07f88522533e\" class=\"plotly-graph-div\" style=\"height:525px; width:100%;\"></div>            <script type=\"text/javascript\">                require([\"plotly\"], function(Plotly) {                    window.PLOTLYENV=window.PLOTLYENV || {};                                    if (document.getElementById(\"72434865-efb7-4bb3-a264-07f88522533e\")) {                    Plotly.newPlot(                        \"72434865-efb7-4bb3-a264-07f88522533e\",                        [{\"hovertemplate\":\"year=%{x}\\u003cbr\\u003eavg(AverageTemperature)=%{y}\\u003cextra\\u003e\\u003c\\u002fextra\\u003e\",\"legendgroup\":\"\",\"line\":{\"color\":\"#636efa\",\"dash\":\"solid\"},\"marker\":{\"symbol\":\"circle\"},\"mode\":\"lines\",\"name\":\"\",\"orientation\":\"v\",\"showlegend\":false,\"x\":[1743,1744,1745,1750,1751,1752,1753,1754,1755,1756,1757,1758,1759,1760,1761,1762,1763,1764,1765,1766,1767,1768,1769,1770,1771,1772,1773,1774,1775,1776,1777,1778,1779,1780,1781,1782,1783,1784,1785,1786,1787,1788,1789,1790,1791,1792,1793,1794,1795,1796,1797,1798,1799,1800,1801,1802,1803,1804,1805,1806,1807,1808,1809,1810,1811,1812,1813,1814,1815,1816,1817,1818,1819,1820,1821,1822,1823,1824,1825,1826,1827,1828,1829,1830,1831,1832,1833,1834,1835,1836,1837,1838,1839,1840,1841,1842,1843,1844,1845,1846,1847,1848,1849,1850,1851,1852,1853,1854,1855,1856,1857,1858,1859,1860,1861,1862,1863,1864,1865,1866,1867,1868,1869,1870,1871,1872,1873,1874,1875,1876,1877,1878,1879,1880,1881,1882,1883,1884,1885,1886,1887,1888,1889,1890,1891,1892,1893,1894,1895,1896,1897,1898,1899,1900,1901,1902,1903,1904,1905,1906,1907,1908,1909,1910,1911,1912,1913,1914,1915,1916,1917,1918,1919,1920,1921,1922,1923,1924,1925,1926,1927,1928,1929,1930,1931,1932,1933,1934,1935,1936,1937,1938,1939,1940,1941,1942,1943,1944,1945,1946,1947,1948,1949,1950,1951,1952,1953,1954,1955,1956,1957,1958,1959,1960,1961,1962,1963,1964,1965,1966,1967,1968,1969,1970,1971,1972,1973,1974,1975,1976,1977,1978,1979,1980,1981,1982,1983,1984,1985,1986,1987,1988,1989,1990,1991,1992,1993,1994,1995,1996,1997,1998,1999,2000,2001,2002,2003,2004,2005,2006,2007,2008,2009,2010,2011,2012,2013],\"xaxis\":\"x\",\"y\":[4.882423512747874,10.734046919263458,1.497592776203966,9.87280824493085,10.046738737075332,4.253063583815031,9.452665778961384,9.364699884659746,8.825222310666364,9.73270836212855,9.519407968574642,8.648493577981657,9.691045464270431,8.798937674834956,9.794437908496729,9.372744063926946,8.744660119457844,9.814161742555903,9.386765923925282,9.54100455555556,9.09367706113292,8.854440511727075,9.447378129681141,9.509911538461544,9.438601388888888,9.945822709163348,10.043391529259619,9.538027639027643,10.57401081024349,9.412268261426743,9.232807058326285,9.375036546730033,9.732407796958954,9.469317456673938,10.016636601834126,8.950201793270203,9.76893167892156,9.106745936877424,8.810571953835169,9.032166767432487,9.967873852501286,9.71080772300938,9.814777118560269,10.031054267542059,10.422602746396581,9.941539370460042,10.058175030599749,10.502071515768069,9.735600683654447,15.13776666218757,15.160372865680142,14.720698255071612,14.708681763285032,15.258411361804987,14.867708321418323,15.754577093994088,15.199810572983157,15.552923787838198,14.850211869556405,15.432511952998368,14.50504496634684,9.24038807458371,9.316521223529413,9.382670348343243,10.092118890977437,8.767334210765185,14.3365793496648,13.563461861396366,14.029431734784277,14.266152702062103,14.625925776522804,15.09128708775198,14.893161167800454,14.348332056601759,14.435909367517974,14.784790461771406,14.349090822323799,15.042044270161504,16.330363461881813,15.007845728770596,15.186842795200139,14.81208292294683,13.971163343064958,14.205239143920616,13.810947558770348,13.774887593394556,15.017078585961368,15.288224724809485,14.575386599180527,14.786311012026523,14.519746852165325,14.669772762967552,15.286412381544194,15.495474925725759,15.511865932169647,15.551532776955176,15.789382175027944,14.884832278706037,15.106487552623749,15.911679020582454,15.348561618435879,15.202868493611305,15.487025584193546,16.192064678766933,16.58489454804348,16.387710304077586,16.381734680845156,16.647173072693292,16.466708896121514,16.453340627049695,16.07523581889025,15.975535939365333,16.449035161325245,15.953020206753951,16.01338229625548,14.154211931689293,15.04401686324814,14.841465776647592,15.930115559129264,16.296307989087,16.26008773975072,16.519711982131668,16.56422160589496,16.65510125247199,16.388222157925163,16.715643718949632,16.97162953341483,17.037570996298896,16.87518229192032,17.083622405424514,17.422297226785197,17.62043725996957,17.026344372005756,17.177439988417557,17.154883251671457,17.185473785520074,17.005380314600206,16.767088266037874,16.723961019564868,17.064966729034747,17.03878874186502,17.077193009886244,17.248165889871224,17.243240356296248,17.195709289617504,17.14275759739181,16.905717023300028,17.322859425451114,17.20613549382714,17.413317497625847,17.480887654320988,17.480181105169347,17.553389529914533,17.62251130104462,17.469447222222264,17.44224154795816,17.381778632478646,17.19806013770183,17.291567022792066,17.43564458689459,17.140372174738832,17.21821718898387,17.269350759734102,17.2845116096866,17.359756813865175,17.292802564102576,17.415246248812903,17.6740715811966,17.64813739316243,17.450017806267812,17.03235852326689,17.335453751187103,17.469532383665754,17.498858309591654,17.67212640075971,17.53144669990504,17.52994339981007,17.440732359924034,17.531972103513777,17.665183618233634,17.60234297245967,17.65228689458688,17.392587773029458,17.732781695156692,17.63577867996201,17.717267972459656,17.428404249762547,17.695059425451092,17.64751600189936,17.64743656220324,17.764566761633414,17.85472108262108,17.81035956790122,17.59050398860396,17.822197815764493,17.66152659069325,17.749479819563163,17.730796984805338,17.607762321937322,17.934433357075044,17.790526566951538,17.912139363722723,17.859298409306714,17.679402041785384,17.821102991453007,17.829925949667597,17.97688501899333,17.68417345679009,17.7147213675214,17.305051899335172,17.7982301994302,17.99743065052232,18.002708618233616,17.90093387939221,18.029934377967706,17.72721220322891,17.73817796771131,17.65502255460591,17.62380994776827,17.971467331434006,17.75227158119659,17.639048433048448,17.683528846153852,17.779190337132007,17.653380246913567,17.76262279202276,17.972550474833806,17.704323741690406,17.87201820987657,17.496270821462474,17.988380294396972,17.768577943969657,17.961801377018112,17.840025403608752,17.944374311490954,17.95569938271604,18.09413076923081,17.750914672364647,17.760221391263073,17.878245821462503,18.093332953466305,18.121301566951587,18.139926305792965,18.438358262108267,18.111251756885064,18.015378822412142,17.94270982905982,18.345653584995212,18.32877554605884,17.914262559354217,18.23427376543206,18.68251429249762,18.484275522317184,18.38393651471984,18.4560903846154,18.66470826210832,18.478554131054143,18.49487813390313,18.451510232668575,18.60447200854703,18.68694059829059,18.445346604938283,18.601106101614437,18.553508452041797,18.39331464862293,18.525968518518493,19.061038113604496],\"yaxis\":\"y\",\"type\":\"scatter\"}],                        {\"template\":{\"data\":{\"histogram2dcontour\":[{\"type\":\"histogram2dcontour\",\"colorbar\":{\"outlinewidth\":0,\"ticks\":\"\"},\"colorscale\":[[0.0,\"#0d0887\"],[0.1111111111111111,\"#46039f\"],[0.2222222222222222,\"#7201a8\"],[0.3333333333333333,\"#9c179e\"],[0.4444444444444444,\"#bd3786\"],[0.5555555555555556,\"#d8576b\"],[0.6666666666666666,\"#ed7953\"],[0.7777777777777778,\"#fb9f3a\"],[0.8888888888888888,\"#fdca26\"],[1.0,\"#f0f921\"]]}],\"choropleth\":[{\"type\":\"choropleth\",\"colorbar\":{\"outlinewidth\":0,\"ticks\":\"\"}}],\"histogram2d\":[{\"type\":\"histogram2d\",\"colorbar\":{\"outlinewidth\":0,\"ticks\":\"\"},\"colorscale\":[[0.0,\"#0d0887\"],[0.1111111111111111,\"#46039f\"],[0.2222222222222222,\"#7201a8\"],[0.3333333333333333,\"#9c179e\"],[0.4444444444444444,\"#bd3786\"],[0.5555555555555556,\"#d8576b\"],[0.6666666666666666,\"#ed7953\"],[0.7777777777777778,\"#fb9f3a\"],[0.8888888888888888,\"#fdca26\"],[1.0,\"#f0f921\"]]}],\"heatmap\":[{\"type\":\"heatmap\",\"colorbar\":{\"outlinewidth\":0,\"ticks\":\"\"},\"colorscale\":[[0.0,\"#0d0887\"],[0.1111111111111111,\"#46039f\"],[0.2222222222222222,\"#7201a8\"],[0.3333333333333333,\"#9c179e\"],[0.4444444444444444,\"#bd3786\"],[0.5555555555555556,\"#d8576b\"],[0.6666666666666666,\"#ed7953\"],[0.7777777777777778,\"#fb9f3a\"],[0.8888888888888888,\"#fdca26\"],[1.0,\"#f0f921\"]]}],\"heatmapgl\":[{\"type\":\"heatmapgl\",\"colorbar\":{\"outlinewidth\":0,\"ticks\":\"\"},\"colorscale\":[[0.0,\"#0d0887\"],[0.1111111111111111,\"#46039f\"],[0.2222222222222222,\"#7201a8\"],[0.3333333333333333,\"#9c179e\"],[0.4444444444444444,\"#bd3786\"],[0.5555555555555556,\"#d8576b\"],[0.6666666666666666,\"#ed7953\"],[0.7777777777777778,\"#fb9f3a\"],[0.8888888888888888,\"#fdca26\"],[1.0,\"#f0f921\"]]}],\"contourcarpet\":[{\"type\":\"contourcarpet\",\"colorbar\":{\"outlinewidth\":0,\"ticks\":\"\"}}],\"contour\":[{\"type\":\"contour\",\"colorbar\":{\"outlinewidth\":0,\"ticks\":\"\"},\"colorscale\":[[0.0,\"#0d0887\"],[0.1111111111111111,\"#46039f\"],[0.2222222222222222,\"#7201a8\"],[0.3333333333333333,\"#9c179e\"],[0.4444444444444444,\"#bd3786\"],[0.5555555555555556,\"#d8576b\"],[0.6666666666666666,\"#ed7953\"],[0.7777777777777778,\"#fb9f3a\"],[0.8888888888888888,\"#fdca26\"],[1.0,\"#f0f921\"]]}],\"surface\":[{\"type\":\"surface\",\"colorbar\":{\"outlinewidth\":0,\"ticks\":\"\"},\"colorscale\":[[0.0,\"#0d0887\"],[0.1111111111111111,\"#46039f\"],[0.2222222222222222,\"#7201a8\"],[0.3333333333333333,\"#9c179e\"],[0.4444444444444444,\"#bd3786\"],[0.5555555555555556,\"#d8576b\"],[0.6666666666666666,\"#ed7953\"],[0.7777777777777778,\"#fb9f3a\"],[0.8888888888888888,\"#fdca26\"],[1.0,\"#f0f921\"]]}],\"mesh3d\":[{\"type\":\"mesh3d\",\"colorbar\":{\"outlinewidth\":0,\"ticks\":\"\"}}],\"scatter\":[{\"fillpattern\":{\"fillmode\":\"overlay\",\"size\":10,\"solidity\":0.2},\"type\":\"scatter\"}],\"parcoords\":[{\"type\":\"parcoords\",\"line\":{\"colorbar\":{\"outlinewidth\":0,\"ticks\":\"\"}}}],\"scatterpolargl\":[{\"type\":\"scatterpolargl\",\"marker\":{\"colorbar\":{\"outlinewidth\":0,\"ticks\":\"\"}}}],\"bar\":[{\"error_x\":{\"color\":\"#2a3f5f\"},\"error_y\":{\"color\":\"#2a3f5f\"},\"marker\":{\"line\":{\"color\":\"#E5ECF6\",\"width\":0.5},\"pattern\":{\"fillmode\":\"overlay\",\"size\":10,\"solidity\":0.2}},\"type\":\"bar\"}],\"scattergeo\":[{\"type\":\"scattergeo\",\"marker\":{\"colorbar\":{\"outlinewidth\":0,\"ticks\":\"\"}}}],\"scatterpolar\":[{\"type\":\"scatterpolar\",\"marker\":{\"colorbar\":{\"outlinewidth\":0,\"ticks\":\"\"}}}],\"histogram\":[{\"marker\":{\"pattern\":{\"fillmode\":\"overlay\",\"size\":10,\"solidity\":0.2}},\"type\":\"histogram\"}],\"scattergl\":[{\"type\":\"scattergl\",\"marker\":{\"colorbar\":{\"outlinewidth\":0,\"ticks\":\"\"}}}],\"scatter3d\":[{\"type\":\"scatter3d\",\"line\":{\"colorbar\":{\"outlinewidth\":0,\"ticks\":\"\"}},\"marker\":{\"colorbar\":{\"outlinewidth\":0,\"ticks\":\"\"}}}],\"scattermapbox\":[{\"type\":\"scattermapbox\",\"marker\":{\"colorbar\":{\"outlinewidth\":0,\"ticks\":\"\"}}}],\"scatterternary\":[{\"type\":\"scatterternary\",\"marker\":{\"colorbar\":{\"outlinewidth\":0,\"ticks\":\"\"}}}],\"scattercarpet\":[{\"type\":\"scattercarpet\",\"marker\":{\"colorbar\":{\"outlinewidth\":0,\"ticks\":\"\"}}}],\"carpet\":[{\"aaxis\":{\"endlinecolor\":\"#2a3f5f\",\"gridcolor\":\"white\",\"linecolor\":\"white\",\"minorgridcolor\":\"white\",\"startlinecolor\":\"#2a3f5f\"},\"baxis\":{\"endlinecolor\":\"#2a3f5f\",\"gridcolor\":\"white\",\"linecolor\":\"white\",\"minorgridcolor\":\"white\",\"startlinecolor\":\"#2a3f5f\"},\"type\":\"carpet\"}],\"table\":[{\"cells\":{\"fill\":{\"color\":\"#EBF0F8\"},\"line\":{\"color\":\"white\"}},\"header\":{\"fill\":{\"color\":\"#C8D4E3\"},\"line\":{\"color\":\"white\"}},\"type\":\"table\"}],\"barpolar\":[{\"marker\":{\"line\":{\"color\":\"#E5ECF6\",\"width\":0.5},\"pattern\":{\"fillmode\":\"overlay\",\"size\":10,\"solidity\":0.2}},\"type\":\"barpolar\"}],\"pie\":[{\"automargin\":true,\"type\":\"pie\"}]},\"layout\":{\"autotypenumbers\":\"strict\",\"colorway\":[\"#636efa\",\"#EF553B\",\"#00cc96\",\"#ab63fa\",\"#FFA15A\",\"#19d3f3\",\"#FF6692\",\"#B6E880\",\"#FF97FF\",\"#FECB52\"],\"font\":{\"color\":\"#2a3f5f\"},\"hovermode\":\"closest\",\"hoverlabel\":{\"align\":\"left\"},\"paper_bgcolor\":\"white\",\"plot_bgcolor\":\"#E5ECF6\",\"polar\":{\"bgcolor\":\"#E5ECF6\",\"angularaxis\":{\"gridcolor\":\"white\",\"linecolor\":\"white\",\"ticks\":\"\"},\"radialaxis\":{\"gridcolor\":\"white\",\"linecolor\":\"white\",\"ticks\":\"\"}},\"ternary\":{\"bgcolor\":\"#E5ECF6\",\"aaxis\":{\"gridcolor\":\"white\",\"linecolor\":\"white\",\"ticks\":\"\"},\"baxis\":{\"gridcolor\":\"white\",\"linecolor\":\"white\",\"ticks\":\"\"},\"caxis\":{\"gridcolor\":\"white\",\"linecolor\":\"white\",\"ticks\":\"\"}},\"coloraxis\":{\"colorbar\":{\"outlinewidth\":0,\"ticks\":\"\"}},\"colorscale\":{\"sequential\":[[0.0,\"#0d0887\"],[0.1111111111111111,\"#46039f\"],[0.2222222222222222,\"#7201a8\"],[0.3333333333333333,\"#9c179e\"],[0.4444444444444444,\"#bd3786\"],[0.5555555555555556,\"#d8576b\"],[0.6666666666666666,\"#ed7953\"],[0.7777777777777778,\"#fb9f3a\"],[0.8888888888888888,\"#fdca26\"],[1.0,\"#f0f921\"]],\"sequentialminus\":[[0.0,\"#0d0887\"],[0.1111111111111111,\"#46039f\"],[0.2222222222222222,\"#7201a8\"],[0.3333333333333333,\"#9c179e\"],[0.4444444444444444,\"#bd3786\"],[0.5555555555555556,\"#d8576b\"],[0.6666666666666666,\"#ed7953\"],[0.7777777777777778,\"#fb9f3a\"],[0.8888888888888888,\"#fdca26\"],[1.0,\"#f0f921\"]],\"diverging\":[[0,\"#8e0152\"],[0.1,\"#c51b7d\"],[0.2,\"#de77ae\"],[0.3,\"#f1b6da\"],[0.4,\"#fde0ef\"],[0.5,\"#f7f7f7\"],[0.6,\"#e6f5d0\"],[0.7,\"#b8e186\"],[0.8,\"#7fbc41\"],[0.9,\"#4d9221\"],[1,\"#276419\"]]},\"xaxis\":{\"gridcolor\":\"white\",\"linecolor\":\"white\",\"ticks\":\"\",\"title\":{\"standoff\":15},\"zerolinecolor\":\"white\",\"automargin\":true,\"zerolinewidth\":2},\"yaxis\":{\"gridcolor\":\"white\",\"linecolor\":\"white\",\"ticks\":\"\",\"title\":{\"standoff\":15},\"zerolinecolor\":\"white\",\"automargin\":true,\"zerolinewidth\":2},\"scene\":{\"xaxis\":{\"backgroundcolor\":\"#E5ECF6\",\"gridcolor\":\"white\",\"linecolor\":\"white\",\"showbackground\":true,\"ticks\":\"\",\"zerolinecolor\":\"white\",\"gridwidth\":2},\"yaxis\":{\"backgroundcolor\":\"#E5ECF6\",\"gridcolor\":\"white\",\"linecolor\":\"white\",\"showbackground\":true,\"ticks\":\"\",\"zerolinecolor\":\"white\",\"gridwidth\":2},\"zaxis\":{\"backgroundcolor\":\"#E5ECF6\",\"gridcolor\":\"white\",\"linecolor\":\"white\",\"showbackground\":true,\"ticks\":\"\",\"zerolinecolor\":\"white\",\"gridwidth\":2}},\"shapedefaults\":{\"line\":{\"color\":\"#2a3f5f\"}},\"annotationdefaults\":{\"arrowcolor\":\"#2a3f5f\",\"arrowhead\":0,\"arrowwidth\":1},\"geo\":{\"bgcolor\":\"white\",\"landcolor\":\"#E5ECF6\",\"subunitcolor\":\"white\",\"showland\":true,\"showlakes\":true,\"lakecolor\":\"white\"},\"title\":{\"x\":0.05},\"mapbox\":{\"style\":\"light\"}}},\"xaxis\":{\"anchor\":\"y\",\"domain\":[0.0,1.0],\"title\":{\"text\":\"year\"}},\"yaxis\":{\"anchor\":\"x\",\"domain\":[0.0,1.0],\"title\":{\"text\":\"avg(AverageTemperature)\"}},\"legend\":{\"tracegroupgap\":0},\"margin\":{\"t\":60}},                        {\"responsive\": true}                    ).then(function(){\n",
       "                            \n",
       "var gd = document.getElementById('72434865-efb7-4bb3-a264-07f88522533e');\n",
       "var x = new MutationObserver(function (mutations, observer) {{\n",
       "        var display = window.getComputedStyle(gd).display;\n",
       "        if (!display || display === 'none') {{\n",
       "            console.log([gd, 'removed!']);\n",
       "            Plotly.purge(gd);\n",
       "            observer.disconnect();\n",
       "        }}\n",
       "}});\n",
       "\n",
       "// Listen for the removal of the full notebook cells\n",
       "var notebookContainer = gd.closest('#notebook-container');\n",
       "if (notebookContainer) {{\n",
       "    x.observe(notebookContainer, {childList: true});\n",
       "}}\n",
       "\n",
       "// Listen for the clearing of the current output cell\n",
       "var outputEl = gd.closest('.output');\n",
       "if (outputEl) {{\n",
       "    x.observe(outputEl, {childList: true});\n",
       "}}\n",
       "\n",
       "                        })                };                });            </script>        </div>"
      ]
     },
     "metadata": {},
     "output_type": "display_data"
    }
   ],
   "source": [
    "fig.show()"
   ]
  },
  {
   "cell_type": "code",
   "execution_count": 124,
   "id": "712a3e19-a6d0-4772-94b6-1804bccb824b",
   "metadata": {},
   "outputs": [
    {
     "name": "stdout",
     "output_type": "stream",
     "text": [
      "+----------------------------+------------------------------------------------------------------------------------------------------------------+-------+\n",
      "|col_name                    |data_type                                                                                                         |comment|\n",
      "+----------------------------+------------------------------------------------------------------------------------------------------------------+-------+\n",
      "|id                          |int                                                                                                               |NULL   |\n",
      "|name                        |string                                                                                                            |NULL   |\n",
      "|                            |                                                                                                                  |       |\n",
      "|# Detailed Table Information|                                                                                                                  |       |\n",
      "|Catalog                     |spark_catalog                                                                                                     |       |\n",
      "|Database                    |default                                                                                                           |       |\n",
      "|Table                       |t1                                                                                                                |       |\n",
      "|Owner                       |root                                                                                                              |       |\n",
      "|Created Time                |Mon Feb 19 20:12:31 GMT 2024                                                                                      |       |\n",
      "|Last Access                 |UNKNOWN                                                                                                           |       |\n",
      "|Created By                  |Spark 3.5.0                                                                                                       |       |\n",
      "|Type                        |EXTERNAL                                                                                                          |       |\n",
      "|Provider                    |hive                                                                                                              |       |\n",
      "|Table Properties            |[TRANSLATED_TO_EXTERNAL=TRUE, external.table.purge=TRUE, numFilesErasureCoded=0, transient_lastDdlTime=1708373614]|       |\n",
      "|Statistics                  |22 bytes                                                                                                          |       |\n",
      "|Location                    |hdfs://0.0.0.0:9000/user/hive/warehouse/t1                                                                        |       |\n",
      "|Serde Library               |org.apache.hadoop.hive.serde2.lazy.LazySimpleSerDe                                                                |       |\n",
      "|InputFormat                 |org.apache.hadoop.mapred.TextInputFormat                                                                          |       |\n",
      "|OutputFormat                |org.apache.hadoop.hive.ql.io.HiveIgnoreKeyTextOutputFormat                                                        |       |\n",
      "|Storage Properties          |[serialization.format=1]                                                                                          |       |\n",
      "|Partition Provider          |Catalog                                                                                                           |       |\n",
      "+----------------------------+------------------------------------------------------------------------------------------------------------------+-------+\n",
      "\n"
     ]
    }
   ],
   "source": [
    "spark.sql(\"describe formatted t1\").show(100, False)"
   ]
  },
  {
   "cell_type": "code",
   "execution_count": null,
   "id": "1fb439be-46da-457a-be65-31d95d94f47f",
   "metadata": {},
   "outputs": [],
   "source": []
  }
 ],
 "metadata": {
  "kernelspec": {
   "display_name": "Python 3 (ipykernel)",
   "language": "python",
   "name": "python3"
  },
  "language_info": {
   "codemirror_mode": {
    "name": "ipython",
    "version": 3
   },
   "file_extension": ".py",
   "mimetype": "text/x-python",
   "name": "python",
   "nbconvert_exporter": "python",
   "pygments_lexer": "ipython3",
   "version": "3.11.5"
  }
 },
 "nbformat": 4,
 "nbformat_minor": 5
}
